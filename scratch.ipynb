{
 "cells": [
  {
   "cell_type": "markdown",
   "id": "9155a9ad",
   "metadata": {},
   "source": [
    "# Scratch\n",
    "\n",
    "Try using a Jupyter Notebook like we've provided here as a \"scratch pad\" for developing code. \n",
    "\n",
    "You can quickly test functions as modular pieces of your larger code. "
   ]
  },
  {
   "cell_type": "code",
   "execution_count": 228,
   "id": "e61bfb99",
   "metadata": {},
   "outputs": [],
   "source": [
    "import numpy as np # add more packages if you need them "
   ]
  },
  {
   "cell_type": "code",
   "execution_count": 229,
   "id": "7f75905a",
   "metadata": {},
   "outputs": [
    {
     "name": "stdout",
     "output_type": "stream",
     "text": [
      "The autoreload extension is already loaded. To reload it, use:\n",
      "  %reload_ext autoreload\n"
     ]
    }
   ],
   "source": [
    "from chatbot import * #imports all functions from chatbot.py\n",
    "\n",
    "# The lines below auto-reload the code you write in chatbot.py \n",
    "%load_ext autoreload\n",
    "%autoreload 2"
   ]
  },
  {
   "cell_type": "code",
   "execution_count": 230,
   "id": "be860aa2",
   "metadata": {},
   "outputs": [],
   "source": [
    "chatbot = Chatbot()"
   ]
  },
  {
   "cell_type": "code",
   "execution_count": 231,
   "id": "2144c237",
   "metadata": {},
   "outputs": [
    {
     "data": {
      "text/plain": [
       "\"Example: I _____'Movie Title'\\n\""
      ]
     },
     "execution_count": 231,
     "metadata": {},
     "output_type": "execute_result"
    }
   ],
   "source": [
    "chatbot.greeting()"
   ]
  },
  {
   "cell_type": "code",
   "execution_count": 232,
   "id": "2539a199",
   "metadata": {},
   "outputs": [
    {
     "name": "stdout",
     "output_type": "stream",
     "text": [
      "\n",
      "Attention: Extract_Titles:  ['The Notebook'] \n",
      "\n"
     ]
    },
    {
     "data": {
      "text/plain": [
       "['The Notebook']"
      ]
     },
     "execution_count": 232,
     "metadata": {},
     "output_type": "execute_result"
    }
   ],
   "source": [
    "preprocessed_input = 'I liked \"The Notebook\" a lot.'\n",
    "chatbot.extract_titles(preprocessed_input)"
   ]
  },
  {
   "cell_type": "code",
   "execution_count": 238,
   "id": "9b8b7363",
   "metadata": {},
   "outputs": [],
   "source": [
    "# TODO: add more cells to create more test examples and \n",
    "# test more methods in your chatbot "
   ]
  },
  {
   "cell_type": "code",
   "execution_count": 239,
   "id": "c7e94326",
   "metadata": {},
   "outputs": [],
   "source": [
    "ids = chatbot.find_movies_idx_by_title('Titanic')\n",
    "#idx = chatbot.disambiguate_candidates('1953',ids)\n",
    "#len(chatbot.titles)\n",
    "#ids\n",
    "#chatbot.titles"
   ]
  },
  {
   "cell_type": "code",
   "execution_count": 247,
   "id": "771bf356",
   "metadata": {},
   "outputs": [
    {
     "name": "stdout",
     "output_type": "stream",
     "text": [
      "Attention: After removing movie title: i love love hate \n",
      "Attention: After split: ['i', 'love', 'love', 'hate']\n",
      "Attention: The word 'i' is in the sentiment dictionary: False\n",
      "Attention: The word 'love' is in the sentiment dictionary: True\n",
      "Attention: The word 'love' is in the sentiment dictionary\n",
      "Attention: The word 'love' is positive\n",
      "Attention: The current pos_tokcount is: 1\n",
      "Attention: The word 'love' is in the sentiment dictionary: True\n",
      "Attention: The word 'love' is in the sentiment dictionary\n",
      "Attention: The word 'love' is positive\n",
      "Attention: The current pos_tokcount is: 2\n",
      "Attention: The word 'hate' is in the sentiment dictionary: True\n",
      "Attention: The word 'hate' is in the sentiment dictionary\n",
      "Attention: The word 'hate' is negative\n",
      "Attention: The current neg_tokcount is: 1\n"
     ]
    },
    {
     "data": {
      "text/plain": [
       "0.3333333333333333"
      ]
     },
     "execution_count": 247,
     "metadata": {},
     "output_type": "execute_result"
    }
   ],
   "source": [
    "sentiment = chatbot.predict_sentiment_rule_based('I LOVE Love hate \"Titanic\"')\n",
    "sentiment "
   ]
  },
  {
   "cell_type": "code",
   "execution_count": 248,
   "id": "9d417285",
   "metadata": {},
   "outputs": [
    {
     "name": "stdout",
     "output_type": "stream",
     "text": [
      "Attention: After removing movie title: i hate a litte bit \n",
      "Attention: After split: ['i', 'hate', 'a', 'litte', 'bit']\n",
      "Attention: The word 'i' is in the sentiment dictionary: False\n",
      "Attention: The word 'hate' is in the sentiment dictionary: True\n",
      "Attention: The word 'hate' is in the sentiment dictionary\n",
      "Attention: The word 'hate' is negative\n",
      "Attention: The current neg_tokcount is: 1\n",
      "Attention: The word 'a' is in the sentiment dictionary: False\n",
      "Attention: The word 'litte' is in the sentiment dictionary: False\n",
      "Attention: The word 'bit' is in the sentiment dictionary: True\n",
      "Attention: The word 'bit' is in the sentiment dictionary\n",
      "Attention: The word 'bit' is negative\n",
      "Attention: The current neg_tokcount is: 2\n"
     ]
    },
    {
     "data": {
      "text/plain": [
       "-1.0"
      ]
     },
     "execution_count": 248,
     "metadata": {},
     "output_type": "execute_result"
    }
   ],
   "source": [
    "sentiment = chatbot.predict_sentiment_rule_based('I hate a litte bit \"Titanic\"')\n",
    "sentiment "
   ]
  },
  {
   "cell_type": "code",
   "execution_count": 249,
   "id": "c551b63e",
   "metadata": {},
   "outputs": [
    {
     "name": "stdout",
     "output_type": "stream",
     "text": [
      "Attention: After removing movie title: i do not know if i like the \n",
      "Attention: After split: ['i', 'do', 'not', 'know', 'if', 'i', 'like', 'the']\n",
      "Attention: The word 'i' is in the sentiment dictionary: False\n",
      "Attention: The word 'do' is in the sentiment dictionary: False\n",
      "Attention: The word 'not' is in the sentiment dictionary: False\n",
      "Attention: The word 'know' is in the sentiment dictionary: True\n",
      "Attention: The word 'know' is in the sentiment dictionary\n",
      "Attention: The word 'know' is positive\n",
      "Attention: The current pos_tokcount is: 1\n",
      "Attention: The word 'if' is in the sentiment dictionary: False\n",
      "Attention: The word 'i' is in the sentiment dictionary: False\n",
      "Attention: The word 'like' is in the sentiment dictionary: True\n",
      "Attention: The word 'like' is in the sentiment dictionary\n",
      "Attention: The word 'like' is positive\n",
      "Attention: The current pos_tokcount is: 2\n",
      "Attention: The word 'the' is in the sentiment dictionary: False\n",
      "1.0\n"
     ]
    }
   ],
   "source": [
    "sentiment = chatbot.predict_sentiment_rule_based('I do not know if I like the \"Titanic\"')\n",
    "print(sentiment)"
   ]
  },
  {
   "cell_type": "code",
   "execution_count": 250,
   "id": "77c7d9a4",
   "metadata": {},
   "outputs": [
    {
     "name": "stdout",
     "output_type": "stream",
     "text": [
      "Attention: After removing movie title: i find very poetic, and i take pride for such distort filme \n",
      "Attention: After split: ['i', 'find', 'very', 'poetic', 'and', 'i', 'take', 'pride', 'for', 'such', 'distort', 'filme']\n",
      "Attention: The word 'i' is in the sentiment dictionary: False\n",
      "Attention: The word 'find' is in the sentiment dictionary: False\n",
      "Attention: The word 'very' is in the sentiment dictionary: False\n",
      "Attention: The word 'poetic' is in the sentiment dictionary: True\n",
      "Attention: The word 'poetic' is in the sentiment dictionary\n",
      "Attention: The word 'poetic' is positive\n",
      "Attention: The current pos_tokcount is: 1\n",
      "Attention: The word 'and' is in the sentiment dictionary: False\n",
      "Attention: The word 'i' is in the sentiment dictionary: False\n",
      "Attention: The word 'take' is in the sentiment dictionary: False\n",
      "Attention: The word 'pride' is in the sentiment dictionary: True\n",
      "Attention: The word 'pride' is in the sentiment dictionary\n",
      "Attention: The word 'pride' is positive\n",
      "Attention: The current pos_tokcount is: 2\n",
      "Attention: The word 'for' is in the sentiment dictionary: False\n",
      "Attention: The word 'such' is in the sentiment dictionary: False\n",
      "Attention: The word 'distort' is in the sentiment dictionary: True\n",
      "Attention: The word 'distort' is in the sentiment dictionary\n",
      "Attention: The word 'distort' is negative\n",
      "Attention: The current neg_tokcount is: 1\n",
      "Attention: The word 'filme' is in the sentiment dictionary: False\n",
      "0.3333333333333333\n"
     ]
    }
   ],
   "source": [
    "sentiment = chatbot.predict_sentiment_rule_based('I find very poetic, and I take pride for such distort filme \"X\"')\n",
    "print(sentiment)"
   ]
  },
  {
   "cell_type": "code",
   "execution_count": null,
   "id": "32898060",
   "metadata": {},
   "outputs": [],
   "source": []
  },
  {
   "cell_type": "code",
   "execution_count": null,
   "id": "2c0a02ab",
   "metadata": {},
   "outputs": [],
   "source": []
  }
 ],
 "metadata": {
  "kernelspec": {
   "display_name": "Python 3 (ipykernel)",
   "language": "python",
   "name": "python3"
  },
  "language_info": {
   "codemirror_mode": {
    "name": "ipython",
    "version": 3
   },
   "file_extension": ".py",
   "mimetype": "text/x-python",
   "name": "python",
   "nbconvert_exporter": "python",
   "pygments_lexer": "ipython3",
   "version": "3.8.16"
  }
 },
 "nbformat": 4,
 "nbformat_minor": 5
}
